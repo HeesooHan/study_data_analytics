{
 "cells": [
  {
   "cell_type": "code",
   "execution_count": 1,
   "id": "c93fb3dc-f417-4fb2-a595-1579a29a3a37",
   "metadata": {
    "tags": []
   },
   "outputs": [],
   "source": [
    "import pandas as pd"
   ]
  },
  {
   "cell_type": "code",
   "execution_count": 2,
   "id": "d0be2e3b-4f84-4b79-9903-025a17676cfd",
   "metadata": {
    "tags": []
   },
   "outputs": [
    {
     "data": {
      "text/html": [
       "<div>\n",
       "<style scoped>\n",
       "    .dataframe tbody tr th:only-of-type {\n",
       "        vertical-align: middle;\n",
       "    }\n",
       "\n",
       "    .dataframe tbody tr th {\n",
       "        vertical-align: top;\n",
       "    }\n",
       "\n",
       "    .dataframe thead th {\n",
       "        text-align: right;\n",
       "    }\n",
       "</style>\n",
       "<table border=\"1\" class=\"dataframe\">\n",
       "  <thead>\n",
       "    <tr style=\"text-align: right;\">\n",
       "      <th></th>\n",
       "      <th>id</th>\n",
       "      <th>type_of_contract</th>\n",
       "      <th>type_of_contract2</th>\n",
       "      <th>channel</th>\n",
       "      <th>datetime</th>\n",
       "      <th>Term</th>\n",
       "      <th>payment_type</th>\n",
       "      <th>product</th>\n",
       "      <th>amount</th>\n",
       "      <th>state</th>\n",
       "      <th>overdue_count</th>\n",
       "      <th>overdue</th>\n",
       "      <th>credit rating</th>\n",
       "      <th>bank</th>\n",
       "      <th>cancellation</th>\n",
       "      <th>age</th>\n",
       "      <th>Mileage</th>\n",
       "    </tr>\n",
       "  </thead>\n",
       "  <tbody>\n",
       "    <tr>\n",
       "      <th>0</th>\n",
       "      <td>66758234</td>\n",
       "      <td>렌탈</td>\n",
       "      <td>Normal</td>\n",
       "      <td>서비스 방문</td>\n",
       "      <td>2019-10-20</td>\n",
       "      <td>60</td>\n",
       "      <td>CMS</td>\n",
       "      <td>K1</td>\n",
       "      <td>96900</td>\n",
       "      <td>계약확정</td>\n",
       "      <td>0</td>\n",
       "      <td>없음</td>\n",
       "      <td>9.0</td>\n",
       "      <td>새마을금고</td>\n",
       "      <td>정상</td>\n",
       "      <td>43.0</td>\n",
       "      <td>1862.0</td>\n",
       "    </tr>\n",
       "    <tr>\n",
       "      <th>1</th>\n",
       "      <td>66755948</td>\n",
       "      <td>렌탈</td>\n",
       "      <td>Extension_Rental</td>\n",
       "      <td>서비스 방문</td>\n",
       "      <td>2019-10-20</td>\n",
       "      <td>60</td>\n",
       "      <td>카드이체</td>\n",
       "      <td>K1</td>\n",
       "      <td>102900</td>\n",
       "      <td>계약확정</td>\n",
       "      <td>0</td>\n",
       "      <td>없음</td>\n",
       "      <td>2.0</td>\n",
       "      <td>현대카드</td>\n",
       "      <td>정상</td>\n",
       "      <td>62.0</td>\n",
       "      <td>2532.0</td>\n",
       "    </tr>\n",
       "    <tr>\n",
       "      <th>2</th>\n",
       "      <td>66756657</td>\n",
       "      <td>렌탈</td>\n",
       "      <td>Normal</td>\n",
       "      <td>홈쇼핑/방송</td>\n",
       "      <td>2019-10-20</td>\n",
       "      <td>60</td>\n",
       "      <td>CMS</td>\n",
       "      <td>K1</td>\n",
       "      <td>96900</td>\n",
       "      <td>계약확정</td>\n",
       "      <td>0</td>\n",
       "      <td>없음</td>\n",
       "      <td>8.0</td>\n",
       "      <td>우리은행</td>\n",
       "      <td>정상</td>\n",
       "      <td>60.0</td>\n",
       "      <td>2363.0</td>\n",
       "    </tr>\n",
       "    <tr>\n",
       "      <th>3</th>\n",
       "      <td>66423450</td>\n",
       "      <td>멤버십</td>\n",
       "      <td>TAS</td>\n",
       "      <td>렌탈재계약</td>\n",
       "      <td>2019-10-20</td>\n",
       "      <td>12</td>\n",
       "      <td>CMS</td>\n",
       "      <td>K1</td>\n",
       "      <td>66900</td>\n",
       "      <td>계약확정</td>\n",
       "      <td>0</td>\n",
       "      <td>없음</td>\n",
       "      <td>5.0</td>\n",
       "      <td>농협은행</td>\n",
       "      <td>정상</td>\n",
       "      <td>60.0</td>\n",
       "      <td>2449.0</td>\n",
       "    </tr>\n",
       "    <tr>\n",
       "      <th>4</th>\n",
       "      <td>66423204</td>\n",
       "      <td>멤버십</td>\n",
       "      <td>TAS</td>\n",
       "      <td>렌탈재계약</td>\n",
       "      <td>2019-10-20</td>\n",
       "      <td>12</td>\n",
       "      <td>CMS</td>\n",
       "      <td>K1</td>\n",
       "      <td>66900</td>\n",
       "      <td>해약확정</td>\n",
       "      <td>12</td>\n",
       "      <td>있음</td>\n",
       "      <td>8.0</td>\n",
       "      <td>농협은행</td>\n",
       "      <td>해약</td>\n",
       "      <td>51.0</td>\n",
       "      <td>1942.0</td>\n",
       "    </tr>\n",
       "    <tr>\n",
       "      <th>...</th>\n",
       "      <td>...</td>\n",
       "      <td>...</td>\n",
       "      <td>...</td>\n",
       "      <td>...</td>\n",
       "      <td>...</td>\n",
       "      <td>...</td>\n",
       "      <td>...</td>\n",
       "      <td>...</td>\n",
       "      <td>...</td>\n",
       "      <td>...</td>\n",
       "      <td>...</td>\n",
       "      <td>...</td>\n",
       "      <td>...</td>\n",
       "      <td>...</td>\n",
       "      <td>...</td>\n",
       "      <td>...</td>\n",
       "      <td>...</td>\n",
       "    </tr>\n",
       "    <tr>\n",
       "      <th>51299</th>\n",
       "      <td>66579515</td>\n",
       "      <td>NaN</td>\n",
       "      <td>Promotion</td>\n",
       "      <td>R관리방판</td>\n",
       "      <td>2020-02-03</td>\n",
       "      <td>60</td>\n",
       "      <td>무통장</td>\n",
       "      <td>K3</td>\n",
       "      <td>96900</td>\n",
       "      <td>계약확정</td>\n",
       "      <td>0</td>\n",
       "      <td>없음</td>\n",
       "      <td>NaN</td>\n",
       "      <td>롯데카드</td>\n",
       "      <td>정상</td>\n",
       "      <td>NaN</td>\n",
       "      <td>NaN</td>\n",
       "    </tr>\n",
       "    <tr>\n",
       "      <th>51300</th>\n",
       "      <td>66799558</td>\n",
       "      <td>렌탈</td>\n",
       "      <td>Normal</td>\n",
       "      <td>영업방판</td>\n",
       "      <td>2020-02-03</td>\n",
       "      <td>60</td>\n",
       "      <td>카드이체</td>\n",
       "      <td>K1</td>\n",
       "      <td>96900</td>\n",
       "      <td>해약확정</td>\n",
       "      <td>0</td>\n",
       "      <td>없음</td>\n",
       "      <td>8.0</td>\n",
       "      <td>롯데카드</td>\n",
       "      <td>해약</td>\n",
       "      <td>39.0</td>\n",
       "      <td>1753.0</td>\n",
       "    </tr>\n",
       "    <tr>\n",
       "      <th>51301</th>\n",
       "      <td>66799197</td>\n",
       "      <td>렌탈</td>\n",
       "      <td>Promotion</td>\n",
       "      <td>홈쇼핑/방송</td>\n",
       "      <td>2020-02-03</td>\n",
       "      <td>39</td>\n",
       "      <td>무통장</td>\n",
       "      <td>K5</td>\n",
       "      <td>120900</td>\n",
       "      <td>해약확정</td>\n",
       "      <td>0</td>\n",
       "      <td>없음</td>\n",
       "      <td>1.0</td>\n",
       "      <td>NaN</td>\n",
       "      <td>해약</td>\n",
       "      <td>51.0</td>\n",
       "      <td>2217.0</td>\n",
       "    </tr>\n",
       "    <tr>\n",
       "      <th>51302</th>\n",
       "      <td>66792778</td>\n",
       "      <td>NaN</td>\n",
       "      <td>Normal</td>\n",
       "      <td>렌탈총판</td>\n",
       "      <td>2020-02-03</td>\n",
       "      <td>60</td>\n",
       "      <td>카드이체</td>\n",
       "      <td>K1</td>\n",
       "      <td>96900</td>\n",
       "      <td>계약확정</td>\n",
       "      <td>0</td>\n",
       "      <td>없음</td>\n",
       "      <td>2.0</td>\n",
       "      <td>신한카드</td>\n",
       "      <td>정상</td>\n",
       "      <td>64.0</td>\n",
       "      <td>2588.0</td>\n",
       "    </tr>\n",
       "    <tr>\n",
       "      <th>51303</th>\n",
       "      <td>66799607</td>\n",
       "      <td>렌탈</td>\n",
       "      <td>Normal</td>\n",
       "      <td>하이마트</td>\n",
       "      <td>2020-02-03</td>\n",
       "      <td>60</td>\n",
       "      <td>CMS</td>\n",
       "      <td>K1</td>\n",
       "      <td>96900</td>\n",
       "      <td>해약확정</td>\n",
       "      <td>0</td>\n",
       "      <td>없음</td>\n",
       "      <td>8.0</td>\n",
       "      <td>농협은행</td>\n",
       "      <td>해약</td>\n",
       "      <td>53.0</td>\n",
       "      <td>2130.0</td>\n",
       "    </tr>\n",
       "  </tbody>\n",
       "</table>\n",
       "<p>51304 rows × 17 columns</p>\n",
       "</div>"
      ],
      "text/plain": [
       "             id type_of_contract type_of_contract2 channel    datetime  Term  \\\n",
       "0      66758234               렌탈            Normal  서비스 방문  2019-10-20    60   \n",
       "1      66755948               렌탈  Extension_Rental  서비스 방문  2019-10-20    60   \n",
       "2      66756657               렌탈            Normal  홈쇼핑/방송  2019-10-20    60   \n",
       "3      66423450              멤버십               TAS   렌탈재계약  2019-10-20    12   \n",
       "4      66423204              멤버십               TAS   렌탈재계약  2019-10-20    12   \n",
       "...         ...              ...               ...     ...         ...   ...   \n",
       "51299  66579515              NaN         Promotion   R관리방판  2020-02-03    60   \n",
       "51300  66799558               렌탈            Normal    영업방판  2020-02-03    60   \n",
       "51301  66799197               렌탈         Promotion  홈쇼핑/방송  2020-02-03    39   \n",
       "51302  66792778              NaN            Normal    렌탈총판  2020-02-03    60   \n",
       "51303  66799607               렌탈            Normal    하이마트  2020-02-03    60   \n",
       "\n",
       "      payment_type product  amount state  overdue_count overdue  \\\n",
       "0              CMS      K1   96900  계약확정              0      없음   \n",
       "1             카드이체      K1  102900  계약확정              0      없음   \n",
       "2              CMS      K1   96900  계약확정              0      없음   \n",
       "3              CMS      K1   66900  계약확정              0      없음   \n",
       "4              CMS      K1   66900  해약확정             12      있음   \n",
       "...            ...     ...     ...   ...            ...     ...   \n",
       "51299          무통장      K3   96900  계약확정              0      없음   \n",
       "51300         카드이체      K1   96900  해약확정              0      없음   \n",
       "51301          무통장      K5  120900  해약확정              0      없음   \n",
       "51302         카드이체      K1   96900  계약확정              0      없음   \n",
       "51303          CMS      K1   96900  해약확정              0      없음   \n",
       "\n",
       "       credit rating   bank cancellation   age  Mileage  \n",
       "0                9.0  새마을금고           정상  43.0   1862.0  \n",
       "1                2.0   현대카드           정상  62.0   2532.0  \n",
       "2                8.0   우리은행           정상  60.0   2363.0  \n",
       "3                5.0   농협은행           정상  60.0   2449.0  \n",
       "4                8.0   농협은행           해약  51.0   1942.0  \n",
       "...              ...    ...          ...   ...      ...  \n",
       "51299            NaN   롯데카드           정상   NaN      NaN  \n",
       "51300            8.0   롯데카드           해약  39.0   1753.0  \n",
       "51301            1.0    NaN           해약  51.0   2217.0  \n",
       "51302            2.0   신한카드           정상  64.0   2588.0  \n",
       "51303            8.0   농협은행           해약  53.0   2130.0  \n",
       "\n",
       "[51304 rows x 17 columns]"
      ]
     },
     "execution_count": 2,
     "metadata": {},
     "output_type": "execute_result"
    }
   ],
   "source": [
    "pd.read_csv('../../datasets/TypeOfContractChannel.csv')"
   ]
  },
  {
   "cell_type": "code",
   "execution_count": 4,
   "id": "72aae122-583c-48c9-b507-2f13b0434420",
   "metadata": {
    "tags": []
   },
   "outputs": [
    {
     "data": {
      "text/html": [
       "<div>\n",
       "<style scoped>\n",
       "    .dataframe tbody tr th:only-of-type {\n",
       "        vertical-align: middle;\n",
       "    }\n",
       "\n",
       "    .dataframe tbody tr th {\n",
       "        vertical-align: top;\n",
       "    }\n",
       "\n",
       "    .dataframe thead th {\n",
       "        text-align: right;\n",
       "    }\n",
       "</style>\n",
       "<table border=\"1\" class=\"dataframe\">\n",
       "  <thead>\n",
       "    <tr style=\"text-align: right;\">\n",
       "      <th></th>\n",
       "      <th>id</th>\n",
       "      <th>type_of_contract</th>\n",
       "      <th>type_of_contract2</th>\n",
       "      <th>channel</th>\n",
       "      <th>datetime</th>\n",
       "      <th>Term</th>\n",
       "      <th>payment_type</th>\n",
       "      <th>product</th>\n",
       "      <th>amount</th>\n",
       "      <th>state</th>\n",
       "      <th>overdue_count</th>\n",
       "      <th>overdue</th>\n",
       "      <th>credit rating</th>\n",
       "      <th>bank</th>\n",
       "      <th>cancellation</th>\n",
       "      <th>age</th>\n",
       "      <th>Mileage</th>\n",
       "    </tr>\n",
       "  </thead>\n",
       "  <tbody>\n",
       "    <tr>\n",
       "      <th>0</th>\n",
       "      <td>66758234</td>\n",
       "      <td>렌탈</td>\n",
       "      <td>Normal</td>\n",
       "      <td>서비스 방문</td>\n",
       "      <td>2019-10-20</td>\n",
       "      <td>60</td>\n",
       "      <td>CMS</td>\n",
       "      <td>K1</td>\n",
       "      <td>96900</td>\n",
       "      <td>계약확정</td>\n",
       "      <td>0</td>\n",
       "      <td>없음</td>\n",
       "      <td>9.0</td>\n",
       "      <td>새마을금고</td>\n",
       "      <td>정상</td>\n",
       "      <td>43.0</td>\n",
       "      <td>1862.0</td>\n",
       "    </tr>\n",
       "    <tr>\n",
       "      <th>1</th>\n",
       "      <td>66755948</td>\n",
       "      <td>렌탈</td>\n",
       "      <td>Extension_Rental</td>\n",
       "      <td>서비스 방문</td>\n",
       "      <td>2019-10-20</td>\n",
       "      <td>60</td>\n",
       "      <td>카드이체</td>\n",
       "      <td>K1</td>\n",
       "      <td>102900</td>\n",
       "      <td>계약확정</td>\n",
       "      <td>0</td>\n",
       "      <td>없음</td>\n",
       "      <td>2.0</td>\n",
       "      <td>현대카드</td>\n",
       "      <td>정상</td>\n",
       "      <td>62.0</td>\n",
       "      <td>2532.0</td>\n",
       "    </tr>\n",
       "    <tr>\n",
       "      <th>2</th>\n",
       "      <td>66756657</td>\n",
       "      <td>렌탈</td>\n",
       "      <td>Normal</td>\n",
       "      <td>홈쇼핑/방송</td>\n",
       "      <td>2019-10-20</td>\n",
       "      <td>60</td>\n",
       "      <td>CMS</td>\n",
       "      <td>K1</td>\n",
       "      <td>96900</td>\n",
       "      <td>계약확정</td>\n",
       "      <td>0</td>\n",
       "      <td>없음</td>\n",
       "      <td>8.0</td>\n",
       "      <td>우리은행</td>\n",
       "      <td>정상</td>\n",
       "      <td>60.0</td>\n",
       "      <td>2363.0</td>\n",
       "    </tr>\n",
       "    <tr>\n",
       "      <th>3</th>\n",
       "      <td>66423450</td>\n",
       "      <td>멤버십</td>\n",
       "      <td>TAS</td>\n",
       "      <td>렌탈재계약</td>\n",
       "      <td>2019-10-20</td>\n",
       "      <td>12</td>\n",
       "      <td>CMS</td>\n",
       "      <td>K1</td>\n",
       "      <td>66900</td>\n",
       "      <td>계약확정</td>\n",
       "      <td>0</td>\n",
       "      <td>없음</td>\n",
       "      <td>5.0</td>\n",
       "      <td>농협은행</td>\n",
       "      <td>정상</td>\n",
       "      <td>60.0</td>\n",
       "      <td>2449.0</td>\n",
       "    </tr>\n",
       "    <tr>\n",
       "      <th>4</th>\n",
       "      <td>66423204</td>\n",
       "      <td>멤버십</td>\n",
       "      <td>TAS</td>\n",
       "      <td>렌탈재계약</td>\n",
       "      <td>2019-10-20</td>\n",
       "      <td>12</td>\n",
       "      <td>CMS</td>\n",
       "      <td>K1</td>\n",
       "      <td>66900</td>\n",
       "      <td>해약확정</td>\n",
       "      <td>12</td>\n",
       "      <td>있음</td>\n",
       "      <td>8.0</td>\n",
       "      <td>농협은행</td>\n",
       "      <td>해약</td>\n",
       "      <td>51.0</td>\n",
       "      <td>1942.0</td>\n",
       "    </tr>\n",
       "    <tr>\n",
       "      <th>...</th>\n",
       "      <td>...</td>\n",
       "      <td>...</td>\n",
       "      <td>...</td>\n",
       "      <td>...</td>\n",
       "      <td>...</td>\n",
       "      <td>...</td>\n",
       "      <td>...</td>\n",
       "      <td>...</td>\n",
       "      <td>...</td>\n",
       "      <td>...</td>\n",
       "      <td>...</td>\n",
       "      <td>...</td>\n",
       "      <td>...</td>\n",
       "      <td>...</td>\n",
       "      <td>...</td>\n",
       "      <td>...</td>\n",
       "      <td>...</td>\n",
       "    </tr>\n",
       "    <tr>\n",
       "      <th>51299</th>\n",
       "      <td>66579515</td>\n",
       "      <td>NaN</td>\n",
       "      <td>Promotion</td>\n",
       "      <td>R관리방판</td>\n",
       "      <td>2020-02-03</td>\n",
       "      <td>60</td>\n",
       "      <td>무통장</td>\n",
       "      <td>K3</td>\n",
       "      <td>96900</td>\n",
       "      <td>계약확정</td>\n",
       "      <td>0</td>\n",
       "      <td>없음</td>\n",
       "      <td>NaN</td>\n",
       "      <td>롯데카드</td>\n",
       "      <td>정상</td>\n",
       "      <td>NaN</td>\n",
       "      <td>NaN</td>\n",
       "    </tr>\n",
       "    <tr>\n",
       "      <th>51300</th>\n",
       "      <td>66799558</td>\n",
       "      <td>렌탈</td>\n",
       "      <td>Normal</td>\n",
       "      <td>영업방판</td>\n",
       "      <td>2020-02-03</td>\n",
       "      <td>60</td>\n",
       "      <td>카드이체</td>\n",
       "      <td>K1</td>\n",
       "      <td>96900</td>\n",
       "      <td>해약확정</td>\n",
       "      <td>0</td>\n",
       "      <td>없음</td>\n",
       "      <td>8.0</td>\n",
       "      <td>롯데카드</td>\n",
       "      <td>해약</td>\n",
       "      <td>39.0</td>\n",
       "      <td>1753.0</td>\n",
       "    </tr>\n",
       "    <tr>\n",
       "      <th>51301</th>\n",
       "      <td>66799197</td>\n",
       "      <td>렌탈</td>\n",
       "      <td>Promotion</td>\n",
       "      <td>홈쇼핑/방송</td>\n",
       "      <td>2020-02-03</td>\n",
       "      <td>39</td>\n",
       "      <td>무통장</td>\n",
       "      <td>K5</td>\n",
       "      <td>120900</td>\n",
       "      <td>해약확정</td>\n",
       "      <td>0</td>\n",
       "      <td>없음</td>\n",
       "      <td>1.0</td>\n",
       "      <td>NaN</td>\n",
       "      <td>해약</td>\n",
       "      <td>51.0</td>\n",
       "      <td>2217.0</td>\n",
       "    </tr>\n",
       "    <tr>\n",
       "      <th>51302</th>\n",
       "      <td>66792778</td>\n",
       "      <td>NaN</td>\n",
       "      <td>Normal</td>\n",
       "      <td>렌탈총판</td>\n",
       "      <td>2020-02-03</td>\n",
       "      <td>60</td>\n",
       "      <td>카드이체</td>\n",
       "      <td>K1</td>\n",
       "      <td>96900</td>\n",
       "      <td>계약확정</td>\n",
       "      <td>0</td>\n",
       "      <td>없음</td>\n",
       "      <td>2.0</td>\n",
       "      <td>신한카드</td>\n",
       "      <td>정상</td>\n",
       "      <td>64.0</td>\n",
       "      <td>2588.0</td>\n",
       "    </tr>\n",
       "    <tr>\n",
       "      <th>51303</th>\n",
       "      <td>66799607</td>\n",
       "      <td>렌탈</td>\n",
       "      <td>Normal</td>\n",
       "      <td>하이마트</td>\n",
       "      <td>2020-02-03</td>\n",
       "      <td>60</td>\n",
       "      <td>CMS</td>\n",
       "      <td>K1</td>\n",
       "      <td>96900</td>\n",
       "      <td>해약확정</td>\n",
       "      <td>0</td>\n",
       "      <td>없음</td>\n",
       "      <td>8.0</td>\n",
       "      <td>농협은행</td>\n",
       "      <td>해약</td>\n",
       "      <td>53.0</td>\n",
       "      <td>2130.0</td>\n",
       "    </tr>\n",
       "  </tbody>\n",
       "</table>\n",
       "<p>51304 rows × 17 columns</p>\n",
       "</div>"
      ],
      "text/plain": [
       "             id type_of_contract type_of_contract2 channel    datetime  Term  \\\n",
       "0      66758234               렌탈            Normal  서비스 방문  2019-10-20    60   \n",
       "1      66755948               렌탈  Extension_Rental  서비스 방문  2019-10-20    60   \n",
       "2      66756657               렌탈            Normal  홈쇼핑/방송  2019-10-20    60   \n",
       "3      66423450              멤버십               TAS   렌탈재계약  2019-10-20    12   \n",
       "4      66423204              멤버십               TAS   렌탈재계약  2019-10-20    12   \n",
       "...         ...              ...               ...     ...         ...   ...   \n",
       "51299  66579515              NaN         Promotion   R관리방판  2020-02-03    60   \n",
       "51300  66799558               렌탈            Normal    영업방판  2020-02-03    60   \n",
       "51301  66799197               렌탈         Promotion  홈쇼핑/방송  2020-02-03    39   \n",
       "51302  66792778              NaN            Normal    렌탈총판  2020-02-03    60   \n",
       "51303  66799607               렌탈            Normal    하이마트  2020-02-03    60   \n",
       "\n",
       "      payment_type product  amount state  overdue_count overdue  \\\n",
       "0              CMS      K1   96900  계약확정              0      없음   \n",
       "1             카드이체      K1  102900  계약확정              0      없음   \n",
       "2              CMS      K1   96900  계약확정              0      없음   \n",
       "3              CMS      K1   66900  계약확정              0      없음   \n",
       "4              CMS      K1   66900  해약확정             12      있음   \n",
       "...            ...     ...     ...   ...            ...     ...   \n",
       "51299          무통장      K3   96900  계약확정              0      없음   \n",
       "51300         카드이체      K1   96900  해약확정              0      없음   \n",
       "51301          무통장      K5  120900  해약확정              0      없음   \n",
       "51302         카드이체      K1   96900  계약확정              0      없음   \n",
       "51303          CMS      K1   96900  해약확정              0      없음   \n",
       "\n",
       "       credit rating   bank cancellation   age  Mileage  \n",
       "0                9.0  새마을금고           정상  43.0   1862.0  \n",
       "1                2.0   현대카드           정상  62.0   2532.0  \n",
       "2                8.0   우리은행           정상  60.0   2363.0  \n",
       "3                5.0   농협은행           정상  60.0   2449.0  \n",
       "4                8.0   농협은행           해약  51.0   1942.0  \n",
       "...              ...    ...          ...   ...      ...  \n",
       "51299            NaN   롯데카드           정상   NaN      NaN  \n",
       "51300            8.0   롯데카드           해약  39.0   1753.0  \n",
       "51301            1.0    NaN           해약  51.0   2217.0  \n",
       "51302            2.0   신한카드           정상  64.0   2588.0  \n",
       "51303            8.0   농협은행           해약  53.0   2130.0  \n",
       "\n",
       "[51304 rows x 17 columns]"
      ]
     },
     "execution_count": 4,
     "metadata": {},
     "output_type": "execute_result"
    }
   ],
   "source": [
    "df_TCC = pd.read_csv('../../datasets/TypeOfContractChannel.csv')\n",
    "df_TCC"
   ]
  },
  {
   "cell_type": "code",
   "execution_count": 5,
   "id": "810c5f6b-debe-4e87-ac05-4984bb5edb1b",
   "metadata": {
    "tags": []
   },
   "outputs": [
    {
     "data": {
      "text/plain": [
       "(51304, 17)"
      ]
     },
     "execution_count": 5,
     "metadata": {},
     "output_type": "execute_result"
    }
   ],
   "source": [
    "df_TCC.shape"
   ]
  },
  {
   "cell_type": "code",
   "execution_count": 6,
   "id": "9468f9e2-dd0b-4da1-ba0c-932879916348",
   "metadata": {
    "tags": []
   },
   "outputs": [
    {
     "name": "stdout",
     "output_type": "stream",
     "text": [
      "<class 'pandas.core.frame.DataFrame'>\n",
      "RangeIndex: 51304 entries, 0 to 51303\n",
      "Data columns (total 17 columns):\n",
      " #   Column             Non-Null Count  Dtype  \n",
      "---  ------             --------------  -----  \n",
      " 0   id                 51304 non-null  int64  \n",
      " 1   type_of_contract   51300 non-null  object \n",
      " 2   type_of_contract2  51303 non-null  object \n",
      " 3   channel            51304 non-null  object \n",
      " 4   datetime           51304 non-null  object \n",
      " 5   Term               51304 non-null  int64  \n",
      " 6   payment_type       51304 non-null  object \n",
      " 7   product            51303 non-null  object \n",
      " 8   amount             51304 non-null  int64  \n",
      " 9   state              51304 non-null  object \n",
      " 10  overdue_count      51304 non-null  int64  \n",
      " 11  overdue            51302 non-null  object \n",
      " 12  credit rating      42521 non-null  float64\n",
      " 13  bank               48544 non-null  object \n",
      " 14  cancellation       51279 non-null  object \n",
      " 15  age                40509 non-null  float64\n",
      " 16  Mileage            40509 non-null  float64\n",
      "dtypes: float64(3), int64(4), object(10)\n",
      "memory usage: 6.7+ MB\n"
     ]
    }
   ],
   "source": [
    "df_TCC.info()"
   ]
  },
  {
   "cell_type": "code",
   "execution_count": 7,
   "id": "18025ede-e52d-45cd-a58e-d4f642f570d6",
   "metadata": {
    "tags": []
   },
   "outputs": [
    {
     "data": {
      "text/html": [
       "<div>\n",
       "<style scoped>\n",
       "    .dataframe tbody tr th:only-of-type {\n",
       "        vertical-align: middle;\n",
       "    }\n",
       "\n",
       "    .dataframe tbody tr th {\n",
       "        vertical-align: top;\n",
       "    }\n",
       "\n",
       "    .dataframe thead th {\n",
       "        text-align: right;\n",
       "    }\n",
       "</style>\n",
       "<table border=\"1\" class=\"dataframe\">\n",
       "  <thead>\n",
       "    <tr style=\"text-align: right;\">\n",
       "      <th></th>\n",
       "      <th>id</th>\n",
       "      <th>Term</th>\n",
       "      <th>amount</th>\n",
       "      <th>overdue_count</th>\n",
       "      <th>credit rating</th>\n",
       "      <th>age</th>\n",
       "      <th>Mileage</th>\n",
       "    </tr>\n",
       "  </thead>\n",
       "  <tbody>\n",
       "    <tr>\n",
       "      <th>count</th>\n",
       "      <td>5.130400e+04</td>\n",
       "      <td>51304.000000</td>\n",
       "      <td>51304.000000</td>\n",
       "      <td>51304.000000</td>\n",
       "      <td>42521.000000</td>\n",
       "      <td>40509.000000</td>\n",
       "      <td>40509.000000</td>\n",
       "    </tr>\n",
       "    <tr>\n",
       "      <th>mean</th>\n",
       "      <td>6.266457e+07</td>\n",
       "      <td>55.638527</td>\n",
       "      <td>93994.980021</td>\n",
       "      <td>0.161040</td>\n",
       "      <td>3.428894</td>\n",
       "      <td>46.608285</td>\n",
       "      <td>1967.922412</td>\n",
       "    </tr>\n",
       "    <tr>\n",
       "      <th>std</th>\n",
       "      <td>1.216115e+07</td>\n",
       "      <td>12.010117</td>\n",
       "      <td>15305.147334</td>\n",
       "      <td>1.122356</td>\n",
       "      <td>2.213590</td>\n",
       "      <td>13.465977</td>\n",
       "      <td>436.707329</td>\n",
       "    </tr>\n",
       "    <tr>\n",
       "      <th>min</th>\n",
       "      <td>2.568798e+07</td>\n",
       "      <td>12.000000</td>\n",
       "      <td>54603.000000</td>\n",
       "      <td>-1.000000</td>\n",
       "      <td>0.000000</td>\n",
       "      <td>20.000000</td>\n",
       "      <td>872.000000</td>\n",
       "    </tr>\n",
       "    <tr>\n",
       "      <th>25%</th>\n",
       "      <td>6.643149e+07</td>\n",
       "      <td>60.000000</td>\n",
       "      <td>81900.000000</td>\n",
       "      <td>0.000000</td>\n",
       "      <td>1.000000</td>\n",
       "      <td>37.000000</td>\n",
       "      <td>1646.000000</td>\n",
       "    </tr>\n",
       "    <tr>\n",
       "      <th>50%</th>\n",
       "      <td>6.676578e+07</td>\n",
       "      <td>60.000000</td>\n",
       "      <td>96900.000000</td>\n",
       "      <td>0.000000</td>\n",
       "      <td>3.000000</td>\n",
       "      <td>46.000000</td>\n",
       "      <td>1946.000000</td>\n",
       "    </tr>\n",
       "    <tr>\n",
       "      <th>75%</th>\n",
       "      <td>6.678161e+07</td>\n",
       "      <td>60.000000</td>\n",
       "      <td>98400.000000</td>\n",
       "      <td>0.000000</td>\n",
       "      <td>5.000000</td>\n",
       "      <td>56.000000</td>\n",
       "      <td>2263.000000</td>\n",
       "    </tr>\n",
       "    <tr>\n",
       "      <th>max</th>\n",
       "      <td>6.696986e+07</td>\n",
       "      <td>60.000000</td>\n",
       "      <td>215700.000000</td>\n",
       "      <td>15.000000</td>\n",
       "      <td>10.000000</td>\n",
       "      <td>107.000000</td>\n",
       "      <td>3803.000000</td>\n",
       "    </tr>\n",
       "  </tbody>\n",
       "</table>\n",
       "</div>"
      ],
      "text/plain": [
       "                 id          Term         amount  overdue_count  \\\n",
       "count  5.130400e+04  51304.000000   51304.000000   51304.000000   \n",
       "mean   6.266457e+07     55.638527   93994.980021       0.161040   \n",
       "std    1.216115e+07     12.010117   15305.147334       1.122356   \n",
       "min    2.568798e+07     12.000000   54603.000000      -1.000000   \n",
       "25%    6.643149e+07     60.000000   81900.000000       0.000000   \n",
       "50%    6.676578e+07     60.000000   96900.000000       0.000000   \n",
       "75%    6.678161e+07     60.000000   98400.000000       0.000000   \n",
       "max    6.696986e+07     60.000000  215700.000000      15.000000   \n",
       "\n",
       "       credit rating           age       Mileage  \n",
       "count   42521.000000  40509.000000  40509.000000  \n",
       "mean        3.428894     46.608285   1967.922412  \n",
       "std         2.213590     13.465977    436.707329  \n",
       "min         0.000000     20.000000    872.000000  \n",
       "25%         1.000000     37.000000   1646.000000  \n",
       "50%         3.000000     46.000000   1946.000000  \n",
       "75%         5.000000     56.000000   2263.000000  \n",
       "max        10.000000    107.000000   3803.000000  "
      ]
     },
     "execution_count": 7,
     "metadata": {},
     "output_type": "execute_result"
    }
   ],
   "source": [
    "df_TCC.describe()"
   ]
  },
  {
   "cell_type": "code",
   "execution_count": 8,
   "id": "150c3c30-d17c-4510-bd2d-c54c5abf3f43",
   "metadata": {
    "tags": []
   },
   "outputs": [
    {
     "data": {
      "text/html": [
       "<div>\n",
       "<style scoped>\n",
       "    .dataframe tbody tr th:only-of-type {\n",
       "        vertical-align: middle;\n",
       "    }\n",
       "\n",
       "    .dataframe tbody tr th {\n",
       "        vertical-align: top;\n",
       "    }\n",
       "\n",
       "    .dataframe thead th {\n",
       "        text-align: right;\n",
       "    }\n",
       "</style>\n",
       "<table border=\"1\" class=\"dataframe\">\n",
       "  <thead>\n",
       "    <tr style=\"text-align: right;\">\n",
       "      <th></th>\n",
       "      <th>type_of_contract</th>\n",
       "      <th>type_of_contract2</th>\n",
       "      <th>channel</th>\n",
       "      <th>datetime</th>\n",
       "      <th>payment_type</th>\n",
       "      <th>product</th>\n",
       "      <th>state</th>\n",
       "      <th>overdue</th>\n",
       "      <th>bank</th>\n",
       "      <th>cancellation</th>\n",
       "    </tr>\n",
       "  </thead>\n",
       "  <tbody>\n",
       "    <tr>\n",
       "      <th>count</th>\n",
       "      <td>51300</td>\n",
       "      <td>51303</td>\n",
       "      <td>51304</td>\n",
       "      <td>51304</td>\n",
       "      <td>51304</td>\n",
       "      <td>51303</td>\n",
       "      <td>51304</td>\n",
       "      <td>51302</td>\n",
       "      <td>48544</td>\n",
       "      <td>51279</td>\n",
       "    </tr>\n",
       "    <tr>\n",
       "      <th>unique</th>\n",
       "      <td>2</td>\n",
       "      <td>9</td>\n",
       "      <td>20</td>\n",
       "      <td>101</td>\n",
       "      <td>5</td>\n",
       "      <td>6</td>\n",
       "      <td>4</td>\n",
       "      <td>2</td>\n",
       "      <td>46</td>\n",
       "      <td>2</td>\n",
       "    </tr>\n",
       "    <tr>\n",
       "      <th>top</th>\n",
       "      <td>렌탈</td>\n",
       "      <td>Promotion</td>\n",
       "      <td>서비스 방문</td>\n",
       "      <td>2019-10-29</td>\n",
       "      <td>CMS</td>\n",
       "      <td>K1</td>\n",
       "      <td>계약확정</td>\n",
       "      <td>없음</td>\n",
       "      <td>국민은행</td>\n",
       "      <td>정상</td>\n",
       "    </tr>\n",
       "    <tr>\n",
       "      <th>freq</th>\n",
       "      <td>46481</td>\n",
       "      <td>15811</td>\n",
       "      <td>15186</td>\n",
       "      <td>817</td>\n",
       "      <td>32825</td>\n",
       "      <td>39134</td>\n",
       "      <td>50350</td>\n",
       "      <td>49112</td>\n",
       "      <td>9901</td>\n",
       "      <td>50372</td>\n",
       "    </tr>\n",
       "  </tbody>\n",
       "</table>\n",
       "</div>"
      ],
      "text/plain": [
       "       type_of_contract type_of_contract2 channel    datetime payment_type  \\\n",
       "count             51300             51303   51304       51304        51304   \n",
       "unique                2                 9      20         101            5   \n",
       "top                  렌탈         Promotion  서비스 방문  2019-10-29          CMS   \n",
       "freq              46481             15811   15186         817        32825   \n",
       "\n",
       "       product  state overdue   bank cancellation  \n",
       "count    51303  51304   51302  48544        51279  \n",
       "unique       6      4       2     46            2  \n",
       "top         K1   계약확정      없음   국민은행           정상  \n",
       "freq     39134  50350   49112   9901        50372  "
      ]
     },
     "execution_count": 8,
     "metadata": {},
     "output_type": "execute_result"
    }
   ],
   "source": [
    "df_TCC.describe(include=object)"
   ]
  },
  {
   "cell_type": "code",
   "execution_count": 10,
   "id": "6ec76008-48b9-4d80-8099-931c2f28c970",
   "metadata": {
    "tags": []
   },
   "outputs": [
    {
     "data": {
      "text/plain": [
       "array(['렌탈', '멤버십', nan], dtype=object)"
      ]
     },
     "execution_count": 10,
     "metadata": {},
     "output_type": "execute_result"
    }
   ],
   "source": [
    "df_TCC['type_of_contract'].unique()"
   ]
  },
  {
   "cell_type": "code",
   "execution_count": 11,
   "id": "8a858129-e362-46bd-8807-b4de4cde79a3",
   "metadata": {
    "tags": []
   },
   "outputs": [
    {
     "data": {
      "text/plain": [
       "렌탈     46481\n",
       "멤버십     4819\n",
       "Name: type_of_contract, dtype: int64"
      ]
     },
     "execution_count": 11,
     "metadata": {},
     "output_type": "execute_result"
    }
   ],
   "source": [
    "df_TCC['type_of_contract'].value_counts()"
   ]
  },
  {
   "cell_type": "code",
   "execution_count": 14,
   "id": "ef58b2ec-327c-4f1f-8e0a-7c948f8ca4b0",
   "metadata": {
    "tags": []
   },
   "outputs": [
    {
     "data": {
      "text/plain": [
       "array(['Normal', 'Extension_Rental', 'TAS', 'Promotion', 'Package', nan,\n",
       "       'TA1', 'TA3', 'Group', 'TA2'], dtype=object)"
      ]
     },
     "execution_count": 14,
     "metadata": {},
     "output_type": "execute_result"
    }
   ],
   "source": [
    "df_TCC['type_of_contract2'].unique()"
   ]
  },
  {
   "cell_type": "code",
   "execution_count": 15,
   "id": "ae8bf9c7-031d-4cb5-acee-a1c48775532b",
   "metadata": {
    "tags": []
   },
   "outputs": [
    {
     "data": {
      "text/plain": [
       "Promotion           15811\n",
       "Normal              15324\n",
       "Package             10184\n",
       "Extension_Rental     4975\n",
       "TAS                  2627\n",
       "TA2                  2087\n",
       "Group                 190\n",
       "TA3                    92\n",
       "TA1                    13\n",
       "Name: type_of_contract2, dtype: int64"
      ]
     },
     "execution_count": 15,
     "metadata": {},
     "output_type": "execute_result"
    }
   ],
   "source": [
    "df_TCC['type_of_contract2'].value_counts()"
   ]
  },
  {
   "cell_type": "code",
   "execution_count": 16,
   "id": "d11c8ef9-6cd8-44cf-aa72-4c496fc134a2",
   "metadata": {
    "tags": []
   },
   "outputs": [
    {
     "data": {
      "text/plain": [
       "array(['서비스 방문', '홈쇼핑/방송', '렌탈재계약', '렌탈총판', '전자랜드', '홈플러스', '일반', '영업방판',\n",
       "       '하이마트', '이마트', '홈쇼핑/인터넷', 'R빌리미', 'R유통사', 'R인터넷', 'R관리방판',\n",
       "       'R농협인터넷몰', 'R농협', 'R법인', 'R렌탈운영', 'R법인그룹'], dtype=object)"
      ]
     },
     "execution_count": 16,
     "metadata": {},
     "output_type": "execute_result"
    }
   ],
   "source": [
    "df_TCC['channel'].unique()"
   ]
  },
  {
   "cell_type": "code",
   "execution_count": 17,
   "id": "4440868c-d2d8-4e91-b282-328bd16995af",
   "metadata": {
    "tags": []
   },
   "outputs": [
    {
     "data": {
      "text/plain": [
       "서비스 방문     15186\n",
       "홈쇼핑/방송     12977\n",
       "렌탈총판        5544\n",
       "R관리방판       4727\n",
       "하이마트        3227\n",
       "영업방판        3039\n",
       "렌탈재계약       2193\n",
       "일반          1232\n",
       "전자랜드        1205\n",
       "R빌리미         560\n",
       "이마트          265\n",
       "홈플러스         225\n",
       "R인터넷         198\n",
       "R유통사         188\n",
       "홈쇼핑/인터넷      177\n",
       "R렌탈운영        120\n",
       "R농협          119\n",
       "R농협인터넷몰       83\n",
       "R법인그룹         20\n",
       "R법인           19\n",
       "Name: channel, dtype: int64"
      ]
     },
     "execution_count": 17,
     "metadata": {},
     "output_type": "execute_result"
    }
   ],
   "source": [
    "df_TCC['channel'].value_counts()"
   ]
  },
  {
   "cell_type": "code",
   "execution_count": 18,
   "id": "4349e0d0-56d4-408c-9bb7-0bc097a5566e",
   "metadata": {
    "tags": []
   },
   "outputs": [
    {
     "data": {
      "text/plain": [
       "array(['2019-10-20', '2019-10-21', '2019-10-22', '2019-10-23',\n",
       "       '2019-10-24', '2019-10-25', '2019-10-26', '2019-10-27',\n",
       "       '2019-10-28', '2019-10-29', '2019-10-30', '2019-10-31',\n",
       "       '2019-11-01', '2019-11-02', '2019-11-03', '2019-11-04',\n",
       "       '2019-11-05', '2019-11-06', '2019-11-07', '2019-11-08',\n",
       "       '2019-11-09', '2019-11-10', '2019-11-11', '2019-11-12',\n",
       "       '2019-11-13', '2019-11-14', '2019-11-15', '2019-11-16',\n",
       "       '2019-11-17', '2019-11-18', '2019-11-19', '2019-11-20',\n",
       "       '2019-11-21', '2019-11-22', '2019-11-23', '2019-11-24',\n",
       "       '2019-11-25', '2019-11-26', '2019-11-27', '2019-11-28',\n",
       "       '2019-11-29', '2019-11-30', '2019-12-01', '2019-12-02',\n",
       "       '2019-12-03', '2019-12-04', '2019-12-05', '2019-12-06',\n",
       "       '2019-12-07', '2019-12-08', '2019-12-09', '2019-12-10',\n",
       "       '2019-12-11', '2019-12-12', '2019-12-13', '2019-12-14',\n",
       "       '2019-12-15', '2019-12-16', '2019-12-17', '2019-12-18',\n",
       "       '2019-12-19', '2019-12-20', '2019-12-21', '2019-12-22',\n",
       "       '2019-12-23', '2019-12-24', '2019-12-25', '2019-12-26',\n",
       "       '2019-12-27', '2019-12-28', '2019-12-29', '2019-12-30',\n",
       "       '2020-01-06', '2020-01-07', '2020-01-08', '2020-01-09',\n",
       "       '2020-01-10', '2020-01-11', '2020-01-12', '2020-01-13',\n",
       "       '2020-01-14', '2020-01-15', '2020-01-16', '2020-01-17',\n",
       "       '2020-01-18', '2020-01-19', '2020-01-20', '2020-01-21',\n",
       "       '2020-01-22', '2020-01-23', '2020-01-24', '2020-01-25',\n",
       "       '2020-01-26', '2020-01-27', '2020-01-28', '2020-01-29',\n",
       "       '2020-01-30', '2020-01-31', '2020-02-01', '2020-02-02',\n",
       "       '2020-02-03'], dtype=object)"
      ]
     },
     "execution_count": 18,
     "metadata": {},
     "output_type": "execute_result"
    }
   ],
   "source": [
    "df_TCC['datetime'].unique()"
   ]
  },
  {
   "cell_type": "code",
   "execution_count": 19,
   "id": "55a74a54-d91d-4672-90af-7053f673f1a9",
   "metadata": {
    "tags": []
   },
   "outputs": [
    {
     "data": {
      "text/plain": [
       "2019-10-29    817\n",
       "2019-11-25    805\n",
       "2019-10-25    800\n",
       "2019-10-22    786\n",
       "2020-01-13    745\n",
       "             ... \n",
       "2020-01-25     30\n",
       "2019-12-14     29\n",
       "2019-10-20     28\n",
       "2020-01-11     27\n",
       "2020-01-06      1\n",
       "Name: datetime, Length: 101, dtype: int64"
      ]
     },
     "execution_count": 19,
     "metadata": {},
     "output_type": "execute_result"
    }
   ],
   "source": [
    "df_TCC['datetime'].value_counts()"
   ]
  },
  {
   "cell_type": "code",
   "execution_count": 20,
   "id": "948a3249-7ea4-429b-a2a1-70be8158d450",
   "metadata": {
    "tags": []
   },
   "outputs": [
    {
     "data": {
      "text/plain": [
       "array(['CMS', '카드이체', '가상계좌', '지로', '무통장'], dtype=object)"
      ]
     },
     "execution_count": 20,
     "metadata": {},
     "output_type": "execute_result"
    }
   ],
   "source": [
    "df_TCC['payment_type'].unique()"
   ]
  },
  {
   "cell_type": "code",
   "execution_count": 21,
   "id": "cbeddf01-5d61-43b6-a949-b8e3bdb1d8e4",
   "metadata": {
    "tags": []
   },
   "outputs": [
    {
     "data": {
      "text/plain": [
       "CMS     32825\n",
       "카드이체    15717\n",
       "무통장      2085\n",
       "가상계좌      612\n",
       "지로         65\n",
       "Name: payment_type, dtype: int64"
      ]
     },
     "execution_count": 21,
     "metadata": {},
     "output_type": "execute_result"
    }
   ],
   "source": [
    "df_TCC['payment_type'].value_counts()"
   ]
  },
  {
   "cell_type": "code",
   "execution_count": 22,
   "id": "299444a4-44de-436e-a1be-652bc7c97f15",
   "metadata": {
    "tags": []
   },
   "outputs": [
    {
     "data": {
      "text/plain": [
       "array(['K1', 'K3', 'K2', 'K4', 'K6', nan, 'K5'], dtype=object)"
      ]
     },
     "execution_count": 22,
     "metadata": {},
     "output_type": "execute_result"
    }
   ],
   "source": [
    "df_TCC['product'].unique()"
   ]
  },
  {
   "cell_type": "code",
   "execution_count": 23,
   "id": "78f3d6c4-1b7b-4662-8a03-9ae548af5932",
   "metadata": {
    "tags": []
   },
   "outputs": [
    {
     "data": {
      "text/plain": [
       "K1    39134\n",
       "K2     8995\n",
       "K3     2082\n",
       "K5      645\n",
       "K4      327\n",
       "K6      120\n",
       "Name: product, dtype: int64"
      ]
     },
     "execution_count": 23,
     "metadata": {},
     "output_type": "execute_result"
    }
   ],
   "source": [
    "df_TCC['product'].value_counts()"
   ]
  },
  {
   "cell_type": "code",
   "execution_count": 24,
   "id": "aa959021-ee2f-4d91-aa19-a864f2c99c34",
   "metadata": {
    "tags": []
   },
   "outputs": [
    {
     "data": {
      "text/plain": [
       "array(['계약확정', '해약확정', '기간만료', '해약진행중'], dtype=object)"
      ]
     },
     "execution_count": 24,
     "metadata": {},
     "output_type": "execute_result"
    }
   ],
   "source": [
    "df_TCC['state'].unique()"
   ]
  },
  {
   "cell_type": "code",
   "execution_count": 25,
   "id": "30301f48-5869-4758-a85c-d13ae952a994",
   "metadata": {
    "tags": []
   },
   "outputs": [
    {
     "data": {
      "text/plain": [
       "계약확정     50350\n",
       "해약확정       907\n",
       "기간만료        33\n",
       "해약진행중       14\n",
       "Name: state, dtype: int64"
      ]
     },
     "execution_count": 25,
     "metadata": {},
     "output_type": "execute_result"
    }
   ],
   "source": [
    "df_TCC['state'].value_counts()"
   ]
  },
  {
   "cell_type": "code",
   "execution_count": 26,
   "id": "bde284de-0a49-4314-b93f-c19361fdcc4c",
   "metadata": {
    "tags": []
   },
   "outputs": [
    {
     "data": {
      "text/plain": [
       "array(['없음', '있음', nan], dtype=object)"
      ]
     },
     "execution_count": 26,
     "metadata": {},
     "output_type": "execute_result"
    }
   ],
   "source": [
    "df_TCC['overdue'].unique()"
   ]
  },
  {
   "cell_type": "code",
   "execution_count": 27,
   "id": "450aa8fb-fc6b-4465-bc46-9350512b6446",
   "metadata": {
    "tags": []
   },
   "outputs": [
    {
     "data": {
      "text/plain": [
       "없음    49112\n",
       "있음     2190\n",
       "Name: overdue, dtype: int64"
      ]
     },
     "execution_count": 27,
     "metadata": {},
     "output_type": "execute_result"
    }
   ],
   "source": [
    "df_TCC['overdue'].value_counts()"
   ]
  },
  {
   "cell_type": "code",
   "execution_count": 28,
   "id": "cb6bf700-3e36-4fdd-93ba-87f471bfd7c6",
   "metadata": {
    "tags": []
   },
   "outputs": [
    {
     "data": {
      "text/plain": [
       "array(['새마을금고', '현대카드', '우리은행', '농협은행', '국민은행', '롯데카드', '신한은행', '국민카드',\n",
       "       '우체국', '기업은행', 'SC제일은행', nan, '대구은행', '하나은행', '신한카드', '삼성카드',\n",
       "       '광주은행', '외환은행', '부산은행', 'BC카드', '씨티은행', '신협중앙회', '경남은행', '미래에셋증권',\n",
       "       '외환카드', '수협중앙회', '유안타증권', '전북은행', '상호저축은행', '대신증권', '산업은행', '현대증권',\n",
       "       '산림조합중앙회', '제주은행', '삼성증권', '하나대투증권', 'SK증권', '수협카드', '한국투자증권',\n",
       "       '신한금융투자', '하나SK', 'NH농협카드', '메리츠종합금융증권', '하이투자증권', '우리카드', '대우증권',\n",
       "       '씨티카드'], dtype=object)"
      ]
     },
     "execution_count": 28,
     "metadata": {},
     "output_type": "execute_result"
    }
   ],
   "source": [
    "df_TCC['bank'].unique()"
   ]
  },
  {
   "cell_type": "code",
   "execution_count": 29,
   "id": "5f72dd39-73ef-493c-b031-47968a88a029",
   "metadata": {
    "tags": []
   },
   "outputs": [
    {
     "data": {
      "text/plain": [
       "국민은행         9901\n",
       "롯데카드         9518\n",
       "농협은행         6278\n",
       "신한은행         3522\n",
       "우리은행         3386\n",
       "기업은행         1963\n",
       "신한카드         1533\n",
       "하나은행         1446\n",
       "국민카드         1311\n",
       "BC카드         1264\n",
       "새마을금고         964\n",
       "부산은행          888\n",
       "삼성카드          884\n",
       "현대카드          876\n",
       "대구은행          746\n",
       "우체국           717\n",
       "외환은행          586\n",
       "외환카드          530\n",
       "경남은행          442\n",
       "SC제일은행        439\n",
       "광주은행          347\n",
       "신협중앙회         341\n",
       "전북은행          195\n",
       "씨티은행          162\n",
       "수협중앙회         160\n",
       "제주은행           40\n",
       "유안타증권          27\n",
       "산업은행           23\n",
       "현대증권           11\n",
       "삼성증권            7\n",
       "하나SK            6\n",
       "미래에셋증권          5\n",
       "NH농협카드          4\n",
       "한국투자증권          4\n",
       "신한금융투자          4\n",
       "우리카드            3\n",
       "대우증권            2\n",
       "하이투자증권          1\n",
       "메리츠종합금융증권       1\n",
       "수협카드            1\n",
       "상호저축은행          1\n",
       "SK증권            1\n",
       "하나대투증권          1\n",
       "산림조합중앙회         1\n",
       "대신증권            1\n",
       "씨티카드            1\n",
       "Name: bank, dtype: int64"
      ]
     },
     "execution_count": 29,
     "metadata": {},
     "output_type": "execute_result"
    }
   ],
   "source": [
    "df_TCC['bank'].value_counts()"
   ]
  },
  {
   "cell_type": "code",
   "execution_count": 31,
   "id": "13fee94e-cd7c-4647-855f-55c645d81696",
   "metadata": {
    "tags": []
   },
   "outputs": [
    {
     "data": {
      "text/plain": [
       "array(['정상', '해약', nan], dtype=object)"
      ]
     },
     "execution_count": 31,
     "metadata": {},
     "output_type": "execute_result"
    }
   ],
   "source": [
    "df_TCC['cancellation'].unique()"
   ]
  },
  {
   "cell_type": "code",
   "execution_count": 32,
   "id": "ec269983-aa30-4ee3-823a-bb01b0a762f2",
   "metadata": {
    "tags": []
   },
   "outputs": [
    {
     "data": {
      "text/plain": [
       "정상    50372\n",
       "해약      907\n",
       "Name: cancellation, dtype: int64"
      ]
     },
     "execution_count": 32,
     "metadata": {},
     "output_type": "execute_result"
    }
   ],
   "source": [
    "df_TCC['cancellation'].value_counts()"
   ]
  },
  {
   "cell_type": "code",
   "execution_count": null,
   "id": "92c72e8a-e1c7-4feb-987e-9b2e6e319226",
   "metadata": {},
   "outputs": [],
   "source": []
  }
 ],
 "metadata": {
  "kernelspec": {
   "display_name": "Python 3 (ipykernel)",
   "language": "python",
   "name": "python3"
  },
  "language_info": {
   "codemirror_mode": {
    "name": "ipython",
    "version": 3
   },
   "file_extension": ".py",
   "mimetype": "text/x-python",
   "name": "python",
   "nbconvert_exporter": "python",
   "pygments_lexer": "ipython3",
   "version": "3.11.3"
  }
 },
 "nbformat": 4,
 "nbformat_minor": 5
}
